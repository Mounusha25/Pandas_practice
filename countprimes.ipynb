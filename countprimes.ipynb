{
 "cells": [
  {
   "cell_type": "code",
   "execution_count": 17,
   "id": "f92611de",
   "metadata": {},
   "outputs": [
    {
     "name": "stdout",
     "output_type": "stream",
     "text": [
      "55930\n"
     ]
    }
   ],
   "source": [
    "def count_primes(n):\n",
    "    if n <= 2:\n",
    "        return 0\n",
    "    prime = [1] * (n+1)\n",
    "    for i in range(2, int(n**0.5)+1):\n",
    "        if prime[i] == 1:\n",
    "            for j in range(i*i,n,i):\n",
    "                prime[j] = 0\n",
    "    count = 0\n",
    "    for i in range(2,n):\n",
    "        if prime[i] == 1:\n",
    "            count += 1\n",
    "    return count\n",
    "print(count_primes(691731))\n",
    "    \n",
    "    \n",
    "    \n",
    "        "
   ]
  },
  {
   "cell_type": "code",
   "execution_count": 1,
   "id": "3aec8161",
   "metadata": {},
   "outputs": [],
   "source": [
    "n = 10\n",
    "prime = [0 for i in range(2,n)]"
   ]
  },
  {
   "cell_type": "code",
   "execution_count": null,
   "id": "52085006",
   "metadata": {},
   "outputs": [],
   "source": []
  }
 ],
 "metadata": {
  "kernelspec": {
   "display_name": "base",
   "language": "python",
   "name": "python3"
  },
  "language_info": {
   "codemirror_mode": {
    "name": "ipython",
    "version": 3
   },
   "file_extension": ".py",
   "mimetype": "text/x-python",
   "name": "python",
   "nbconvert_exporter": "python",
   "pygments_lexer": "ipython3",
   "version": "3.12.7"
  }
 },
 "nbformat": 4,
 "nbformat_minor": 5
}
